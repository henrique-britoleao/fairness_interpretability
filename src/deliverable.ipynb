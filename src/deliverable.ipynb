{
 "cells": [
  {
   "cell_type": "markdown",
   "metadata": {},
   "source": [
    "# Interpretability and Algorithmic Fairness Project \n",
    "\n",
    "The goal of this project is to apply the techniques described in class to a \n",
    "the setting of a credit-worthiness prediciton.  \n",
    "\n",
    "### Group members:\n",
    "- Nicolas Barbier de la Serre\n",
    "- Juien Bernardo\n",
    "- Henrique Brito Leao\n",
    "- Benjamin Derre\n",
    "- Hippolyte Guigon "
   ]
  },
  {
   "cell_type": "markdown",
   "metadata": {},
   "source": [
    "## Imports"
   ]
  },
  {
   "cell_type": "code",
   "execution_count": 51,
   "metadata": {},
   "outputs": [],
   "source": [
    "import os\n",
    "\n",
    "import pandas as pd\n",
    "import numpy as np\n",
    "\n",
    "from sklearn.preprocessing import OneHotEncoder\n",
    "from sklearn.compose import make_column_transformer\n",
    "\n",
    "from scipy.stats import chi2_contingency, chi2\n",
    "\n",
    "from xgboost import XGBRegressor, XGBClassifier\n",
    "\n",
    "import matplotlib.pyplot as plt\n",
    "\n",
    "from fpdp import fpdp_isolate"
   ]
  },
  {
   "cell_type": "markdown",
   "metadata": {},
   "source": [
    "## Import data"
   ]
  },
  {
   "cell_type": "code",
   "execution_count": 2,
   "metadata": {},
   "outputs": [],
   "source": [
    "# import data\n",
    "data = pd.read_excel('../data/data_project.xlsx')\n",
    "\n",
    "# set globals\n",
    "CATEGORICAL_COLS = ['CreditHistory', 'EmploymentDuration', 'Housing', \n",
    "                    'Purpose', 'Savings']\n",
    "BINARY_COLS = ['Group', 'Gender']\n",
    "TARGET_COLS = ['y_hat', 'CreditRisk (y)']\n",
    "NUMERICAL_COLS = data.loc[:, ~data.columns.isin(CATEGORICAL_COLS+TARGET_COLS+BINARY_COLS)].columns.tolist()"
   ]
  },
  {
   "cell_type": "markdown",
   "metadata": {},
   "source": [
    "## Step 1: Surrogate models\n",
    "\n",
    "*Use the estimated probability to be classified as good type (no default) provided in the \n",
    "dataset (y_hat). Implement one or two surrogate method(s) to interpret the unknown model used to \n",
    "generate y_hat.*"
   ]
  },
  {
   "cell_type": "markdown",
   "metadata": {},
   "source": [
    "## Step 2: Model estimation\n",
    "\n",
    "*Estimate your own black‐box machine learning model forecasting the  \n",
    "probability to be classified as good type. For the train and test datasets, use a 70‐30 partition.*"
   ]
  },
  {
   "cell_type": "code",
   "execution_count": 3,
   "metadata": {},
   "outputs": [
    {
     "name": "stdout",
     "output_type": "stream",
     "text": [
      "[00:14:02] WARNING: /Users/runner/miniforge3/conda-bld/xgboost-split_1637426411619/work/src/learner.cc:1115: Starting in XGBoost 1.3.0, the default evaluation metric used with the objective 'binary:logistic' was changed from 'error' to 'logloss'. Explicitly set eval_metric if you'd like to restore the old behavior.\n"
     ]
    },
    {
     "data": {
      "text/plain": [
       "XGBClassifier(base_score=0.5, booster='gbtree', colsample_bylevel=1,\n",
       "              colsample_bynode=1, colsample_bytree=1, enable_categorical=False,\n",
       "              gamma=0, gpu_id=-1, importance_type=None,\n",
       "              interaction_constraints='', learning_rate=0.300000012,\n",
       "              max_delta_step=0, max_depth=6, min_child_weight=1, missing=nan,\n",
       "              monotone_constraints='()', n_estimators=100, n_jobs=8,\n",
       "              num_parallel_tree=1, predictor='auto', random_state=0,\n",
       "              reg_alpha=0, reg_lambda=1, scale_pos_weight=1, subsample=1,\n",
       "              tree_method='exact', validate_parameters=1, verbosity=None)"
      ]
     },
     "execution_count": 3,
     "metadata": {},
     "output_type": "execute_result"
    }
   ],
   "source": [
    "# select full data \n",
    "data_full = data.copy()\n",
    "train_data = data_full.loc[data_full.y_hat.isna()]\n",
    "test_data = data_full.loc[data_full.y_hat.notnull()]\n",
    "\n",
    "y_train = train_data['CreditRisk (y)'].to_numpy()\n",
    "y_test = test_data['CreditRisk (y)'].to_numpy()\n",
    "X_train = train_data.drop(['CreditRisk (y)', 'y_hat'], axis=1)\n",
    "X_test = test_data.drop(['CreditRisk (y)', 'y_hat'], axis=1)\n",
    "X_full = data_full.drop(['CreditRisk (y)', 'y_hat'], axis=1)\n",
    "\n",
    "transformer = make_column_transformer(\n",
    "    (OneHotEncoder(), CATEGORICAL_COLS),\n",
    "    remainder='passthrough'\n",
    ")\n",
    "\n",
    "X_train_prep = transformer.fit_transform(X_train)\n",
    "X_test_prep = transformer.fit_transform(X_test)\n",
    "X_full_prep = transformer.fit_transform(X_full)\n",
    "\n",
    "clf = XGBClassifier()\n",
    "clf.fit(X_train_prep, y_train)"
   ]
  },
  {
   "cell_type": "markdown",
   "metadata": {},
   "source": [
    "## Step 3: Model performance\n",
    "\n",
    "*Analyze the performance of your own model.*"
   ]
  },
  {
   "cell_type": "markdown",
   "metadata": {},
   "source": [
    "# Global interpretability"
   ]
  },
  {
   "cell_type": "markdown",
   "metadata": {},
   "source": [
    "## Step 4: Surrogate models\n",
    "\n",
    "*Implement one or two surrogate method(s) to interpret your own \n",
    "model. Compare the results provided in Steps 1 and 4.*"
   ]
  },
  {
   "cell_type": "markdown",
   "metadata": {},
   "source": [
    "## Step 5: PDP\n",
    "\n",
    "*Implement the PDP method to interpret your own model.*"
   ]
  },
  {
   "cell_type": "markdown",
   "metadata": {},
   "source": [
    "## Step 6: ALE\n",
    "\n",
    "*Implement the ALE method to interpret your own model. Compare \n",
    "the results provided in Steps 5 and 6.*"
   ]
  },
  {
   "cell_type": "markdown",
   "metadata": {},
   "source": [
    "# Local Interpretability"
   ]
  },
  {
   "cell_type": "markdown",
   "metadata": {},
   "source": [
    "## Step 7: ICE\n",
    "\n",
    "*Implement the ICE method to interpret your own model.*"
   ]
  },
  {
   "cell_type": "markdown",
   "metadata": {},
   "source": [
    "## Step 8: SHAP\n",
    "\n",
    "*Implement the SHAP method to interpret your own model. Compare \n",
    "the results provided in Steps 7 and 8.*"
   ]
  },
  {
   "cell_type": "markdown",
   "metadata": {},
   "source": [
    "# Fairness"
   ]
  },
  {
   "cell_type": "markdown",
   "metadata": {},
   "source": [
    "## Step 9: Fairness assessment\n",
    "\n",
    "*Use a Pearson statistic for the following three fairness \n",
    "definitions: Statistical Parity, Conditional Statistical Parity (groups are given in the dataset), and Equal \n",
    "Odds. Discuss your results.*\n",
    "\n",
    "Here we analyze whether the model discriminates between men and women when making predicitons."
   ]
  },
  {
   "cell_type": "code",
   "execution_count": 4,
   "metadata": {},
   "outputs": [],
   "source": [
    "# recover predicitons and true values\n",
    "\n",
    "y_pred = clf.predict(X_full_prep)\n",
    "y_true = data_full.loc[:, 'CreditRisk (y)']"
   ]
  },
  {
   "cell_type": "code",
   "execution_count": 6,
   "metadata": {},
   "outputs": [],
   "source": [
    "def display_fairness_results(test_statistic: float, p_val:float, message=None) -> None:\n",
    "    print(f'The chi-squared statistic is: {test_statistic:.2f}')\n",
    "    print(f'The test p-value is: {p_val:.2e}')\n",
    "\n",
    "    if p_val < 0.05:\n",
    "        os.system('say \"Your model is mysoginistic\"')\n",
    "    else:\n",
    "        os.system('say \"Your model is progressive\"')"
   ]
  },
  {
   "cell_type": "markdown",
   "metadata": {},
   "source": [
    "### Statistical Parity"
   ]
  },
  {
   "cell_type": "code",
   "execution_count": 7,
   "metadata": {},
   "outputs": [],
   "source": [
    "def compute_vanilla_chi_squared(\n",
    "    preds: np.ndarray, \n",
    "    fairness_column: pd.Series\n",
    ") -> tuple[float, float]:\n",
    "    contingency_table = pd.crosstab(preds, fairness_column)\n",
    "    test_statistic, p_val, _, _ = chi2_contingency(contingency_table)\n",
    "    \n",
    "    return test_statistic, p_val"
   ]
  },
  {
   "cell_type": "code",
   "execution_count": 8,
   "metadata": {},
   "outputs": [
    {
     "name": "stdout",
     "output_type": "stream",
     "text": [
      "The chi-squared statistic is: 8.52\n",
      "The test p-value is: 3.51e-03\n"
     ]
    }
   ],
   "source": [
    "test_statistic, p_val = compute_vanilla_chi_squared(y_pred, data_full['Gender'])\n",
    "display_fairness_results(test_statistic, p_val)"
   ]
  },
  {
   "cell_type": "markdown",
   "metadata": {},
   "source": [
    "### Conditional Statistical Parity\n",
    "\n",
    "Here we consider the groups provided in the dataset to make a fairness evaluation.\n",
    "The groups contain information on whether an individual is credit-worthy or not. "
   ]
  },
  {
   "cell_type": "code",
   "execution_count": 13,
   "metadata": {},
   "outputs": [],
   "source": [
    "def compute_conditional_chi_squared(\n",
    "    groups: list[int], \n",
    "    group_column: pd.Series, \n",
    "    preds: np.ndarray, \n",
    "    fairness_column: pd.Series,\n",
    ") -> tuple[float, float]:\n",
    "    # initialize test_statistic result\n",
    "    test_statistic = 0\n",
    "    \n",
    "    for group in groups:\n",
    "        # select indexes of corresponding group\n",
    "        group_idx = np.where(group_column==group)[0]\n",
    "        group_preds = preds[group_idx]\n",
    "        \n",
    "        contingency_table = pd.crosstab(group_preds, \n",
    "                                        fairness_column[group_idx])\n",
    "        chi_sq_stats, _, _, _ = chi2_contingency(contingency_table)\n",
    "        test_statistic += chi_sq_stats\n",
    "    \n",
    "    # calculate the p-value\n",
    "    p_val = chi2.pdf(test_statistic, 2)\n",
    "    \n",
    "    return test_statistic, p_val"
   ]
  },
  {
   "cell_type": "code",
   "execution_count": 14,
   "metadata": {},
   "outputs": [
    {
     "name": "stdout",
     "output_type": "stream",
     "text": [
      "The chi-squared statistic is: 11.78\n",
      "The test p-value is: 1.38e-03\n"
     ]
    }
   ],
   "source": [
    "test_statistic, p_val = compute_conditional_chi_squared(\n",
    "    [0, 1], \n",
    "    data_full['Group'],\n",
    "    y_pred, \n",
    "    data_full['Gender']\n",
    ")\n",
    "\n",
    "display_fairness_results(test_statistic, p_val)"
   ]
  },
  {
   "cell_type": "markdown",
   "metadata": {},
   "source": [
    "### Equal odds\n",
    "\n",
    "Here we test the fairness of the model given the true outcome."
   ]
  },
  {
   "cell_type": "code",
   "execution_count": 15,
   "metadata": {},
   "outputs": [
    {
     "data": {
      "text/plain": [
       "pandas.core.series.Series"
      ]
     },
     "execution_count": 15,
     "metadata": {},
     "output_type": "execute_result"
    }
   ],
   "source": [
    "type(data_full['Gender'])"
   ]
  },
  {
   "cell_type": "code",
   "execution_count": 16,
   "metadata": {},
   "outputs": [
    {
     "name": "stdout",
     "output_type": "stream",
     "text": [
      "The chi-squared statistic is: 0.62\n",
      "The test p-value is: 3.67e-01\n"
     ]
    }
   ],
   "source": [
    "test_statistic, p_val = compute_conditional_chi_squared(\n",
    "    [0, 1], \n",
    "    y_true,\n",
    "    y_pred, \n",
    "    pd.Series(data_full['Gender'])\n",
    ")\n",
    "\n",
    "display_fairness_results(test_statistic, p_val)"
   ]
  },
  {
   "cell_type": "markdown",
   "metadata": {},
   "source": [
    "## Step 10: FPDF\n",
    "\n",
    "*Implement a FPDP using a fairness measure. Discuss your results.*"
   ]
  },
  {
   "cell_type": "code",
   "execution_count": 17,
   "metadata": {},
   "outputs": [],
   "source": [
    "ONE_HOT_COLS = transformer.transformers_[0][1].get_feature_names(CATEGORICAL_COLS).tolist()\n",
    "\n",
    "dataset = pd.DataFrame(data=X_full_prep, columns=NUMERICAL_COLS+ONE_HOT_COLS+BINARY_COLS)\n",
    "\n",
    "dataset.columns = ONE_HOT_COLS+NUMERICAL_COLS+BINARY_COLS\n",
    "dataset = dataset.dropna()\n",
    "\n",
    "model_features = ONE_HOT_COLS+NUMERICAL_COLS+BINARY_COLS"
   ]
  },
  {
   "cell_type": "code",
   "execution_count": 72,
   "metadata": {},
   "outputs": [
    {
     "data": {
      "text/plain": [
       "['CreditHistory_A30',\n",
       " 'CreditHistory_A31',\n",
       " 'CreditHistory_A32',\n",
       " 'CreditHistory_A33',\n",
       " 'CreditHistory_A34',\n",
       " 'EmploymentDuration_A71',\n",
       " 'EmploymentDuration_A72',\n",
       " 'EmploymentDuration_A73',\n",
       " 'EmploymentDuration_A74',\n",
       " 'EmploymentDuration_A75',\n",
       " 'Housing_A151',\n",
       " 'Housing_A152',\n",
       " 'Housing_A153',\n",
       " 'Purpose_A40',\n",
       " 'Purpose_A41',\n",
       " 'Purpose_A410',\n",
       " 'Purpose_A42',\n",
       " 'Purpose_A43',\n",
       " 'Purpose_A44',\n",
       " 'Purpose_A45',\n",
       " 'Purpose_A46',\n",
       " 'Purpose_A48',\n",
       " 'Purpose_A49',\n",
       " 'Savings_A61',\n",
       " 'Savings_A62',\n",
       " 'Savings_A63',\n",
       " 'Savings_A64',\n",
       " 'Savings_A65']"
      ]
     },
     "execution_count": 72,
     "metadata": {},
     "output_type": "execute_result"
    }
   ],
   "source": [
    "ONE_HOT_COLS"
   ]
  },
  {
   "cell_type": "code",
   "execution_count": 93,
   "metadata": {},
   "outputs": [
    {
     "data": {
      "text/plain": [
       "(array([   1,    4,    9,   10,   11,   13,   15,   18,   29,   35,   37,\n",
       "          44,   54,   59,   62,   63,   67,   68,   74,   76,   80,   87,\n",
       "          89,   92,   95,  101,  105,  106,  113,  116,  118,  124,  127,\n",
       "         129,  131,  137,  141,  143,  148,  155,  166,  169,  170,  172,\n",
       "         174,  175,  180,  181,  186,  188,  190,  191,  192,  194,  195,\n",
       "         197,  203,  213,  218,  226,  227,  228,  230,  235,  236,  240,\n",
       "         242,  244,  249,  252,  257,  268,  273,  274,  278,  291,  295,\n",
       "         298,  301,  302,  304,  308,  309,  313,  315,  320,  321,  332,\n",
       "         333,  334,  335,  337,  342,  349,  350,  351,  355,  357,  359,\n",
       "         364,  368,  374,  375,  378,  381,  382,  394,  398,  402,  405,\n",
       "         409,  412,  414,  416,  419,  424,  431,  433,  435,  443,  444,\n",
       "         446,  449,  454,  457,  466,  470,  471,  472,  474,  475,  481,\n",
       "         491,  496,  500,  503,  504,  505,  507,  510,  517,  521,  522,\n",
       "         528,  531,  538,  540,  542,  545,  555,  556,  557,  558,  559,\n",
       "         561,  563,  566,  569,  570,  578,  580,  582,  583,  585,  589,\n",
       "         591,  593,  594,  595,  596,  597,  598,  601,  602,  603,  607,\n",
       "         610,  611,  614,  621,  622,  624,  627,  631,  633,  634,  639,\n",
       "         640,  642,  645,  647,  648,  649,  650,  651,  652,  653,  656,\n",
       "         661,  668,  674,  677,  700,  701,  706,  707,  711,  714,  722,\n",
       "         724,  728,  731,  736,  739,  746,  747,  751,  754,  755,  757,\n",
       "         761,  763,  764,  766,  771,  775,  780,  783,  788,  789,  790,\n",
       "         796,  805,  808,  809,  812,  813,  814,  819,  822,  826,  827,\n",
       "         828,  831,  832,  834,  835,  840,  842,  846,  850,  853,  855,\n",
       "         858,  861,  864,  878,  881,  884,  885,  887,  888,  889,  899,\n",
       "         911,  914,  915,  917,  918,  919,  922,  924,  925,  927,  931,\n",
       "         935,  938,  946,  948,  951,  952,  953,  958,  966,  968,  972,\n",
       "         973,  979,  980,  981,  983,  993,  998, 1001, 1004, 1006, 1008,\n",
       "        1010, 1014, 1020, 1021, 1024, 1026, 1028, 1033, 1035, 1036, 1039,\n",
       "        1041, 1043, 1053, 1055, 1056, 1062, 1063, 1064, 1067, 1068, 1078,\n",
       "        1081, 1085, 1086, 1087, 1090, 1093, 1094, 1100, 1113, 1114, 1115,\n",
       "        1118, 1119, 1124, 1131, 1138, 1139, 1140, 1145, 1148, 1151, 1177,\n",
       "        1179, 1182, 1197, 1198, 1199, 1200, 1204, 1207, 1208, 1209, 1214,\n",
       "        1219, 1221, 1222, 1226, 1231, 1232, 1234, 1235, 1243, 1244, 1251,\n",
       "        1260, 1263, 1264, 1269, 1271, 1279, 1280, 1281, 1284, 1293, 1295,\n",
       "        1303, 1309, 1315, 1316, 1318, 1319, 1320, 1324, 1330, 1332, 1333,\n",
       "        1336, 1341, 1344, 1345, 1347, 1349, 1352, 1353, 1356, 1359, 1361,\n",
       "        1362, 1367, 1371, 1387, 1388, 1390, 1392, 1397, 1400, 1407, 1421,\n",
       "        1422, 1426, 1428, 1435, 1439, 1441, 1444, 1452, 1456, 1461, 1471,\n",
       "        1478, 1479, 1480, 1486, 1487, 1488, 1489, 1494, 1499, 1507, 1521,\n",
       "        1532, 1533, 1536, 1539, 1540, 1543, 1546, 1553, 1554, 1560, 1562,\n",
       "        1563, 1565, 1571, 1578, 1580, 1585, 1588, 1589, 1590, 1592, 1595,\n",
       "        1598, 1602, 1608, 1610, 1614, 1616, 1620, 1623, 1626, 1627, 1630,\n",
       "        1631, 1633, 1634, 1635, 1647, 1649, 1655, 1656, 1659, 1662, 1668,\n",
       "        1669, 1670, 1677, 1680, 1684, 1686, 1688, 1689, 1693, 1698, 1707,\n",
       "        1709, 1713, 1716, 1718, 1720, 1726, 1727, 1731, 1736, 1738, 1741,\n",
       "        1742, 1743, 1744, 1745, 1752, 1753, 1759, 1760, 1767, 1770, 1778,\n",
       "        1780, 1784, 1786, 1788, 1790, 1793, 1798, 1799, 1800, 1802, 1803,\n",
       "        1804, 1814, 1824, 1830, 1836, 1837, 1839, 1843, 1845, 1849, 1856,\n",
       "        1858, 1859, 1862, 1863, 1867, 1871, 1873, 1875, 1876, 1884, 1885,\n",
       "        1891, 1893, 1899, 1902, 1903, 1904, 1905, 1910, 1913, 1916, 1917,\n",
       "        1918, 1919, 1921, 1924, 1925, 1927, 1929, 1934, 1937, 1941, 1944,\n",
       "        1945, 1947, 1950, 1952, 1961, 1962, 1964, 1967, 1970, 1972, 1974,\n",
       "        1980, 1981, 1982, 1984, 1986, 1988, 1992, 1994, 1995]),)"
      ]
     },
     "execution_count": 93,
     "metadata": {},
     "output_type": "execute_result"
    }
   ],
   "source": [
    "np.where(clf.predict_proba(X_full_prep)[:, 1] < 0.5) "
   ]
  },
  {
   "cell_type": "code",
   "execution_count": 89,
   "metadata": {},
   "outputs": [
    {
     "data": {
      "image/png": "[encoded data removed]",
      "text/plain": [
       "<Figure size 720x504 with 1 Axes>"
      ]
     },
     "metadata": {
      "needs_background": "light"
     },
     "output_type": "display_data"
    }
   ],
   "source": [
    "def get_fpdp_results(model, dataset:pd.DataFrame, model_features:list, column:str, group_column=None):\n",
    "    cols = [feature for feature in dataset.columns if feature.split(\"_\")[0]==column]\n",
    "\n",
    "    if len(cols) == 1:\n",
    "        feature = column\n",
    "    else:\n",
    "        feature = cols\n",
    "    pdp_fare = fpdp_isolate(\n",
    "        model=model,\n",
    "        dataset=dataset,\n",
    "        model_features=model_features,\n",
    "        feature=feature\n",
    "    )\n",
    "    \n",
    "    results = pd.DataFrame(columns=['p_val'])\n",
    "    \n",
    "    for col in pdp_fare.columns:\n",
    "        preds = pdp_fare[col].apply(lambda x: 0 if x<0.5 else 1)\n",
    "        \n",
    "        if group_column is not None:\n",
    "            results.loc[col, 'p_val'] =  compute_conditional_chi_squared(\n",
    "                groups=[0, 1],\n",
    "                group_column=group_column,\n",
    "                preds=preds,\n",
    "                fairness_column=dataset['Gender']\n",
    "            )[1]\n",
    "        else:\n",
    "            results.loc[col, 'p_val'] =  compute_vanilla_chi_squared(\n",
    "                preds=preds,\n",
    "                fairness_column=dataset['Gender']\n",
    "            )[1]\n",
    "            \n",
    "    fig, ax = plt.subplots(figsize=(10, 7))   \n",
    "    fig = results.plot(title=f'FPDP plot for column {column}', ax=ax)\n",
    "    plt.xticks(range(len(cols)), rotation=45)\n",
    "    ax.set_xticklabels(cols)\n",
    "    ax.axhline(y=0.05, color='r', linestyle='-')\n",
    "    \n",
    "    return fig\n",
    "\n",
    "test = get_fpdp_results(clf, dataset, model_features, \"Housing\", group_column=dataset['Group'])\n"
   ]
  },
  {
   "cell_type": "code",
   "execution_count": 71,
   "metadata": {},
   "outputs": [
    {
     "name": "stdout",
     "output_type": "stream",
     "text": [
      "['Purpose_A40', 'Purpose_A41', 'Purpose_A410', 'Purpose_A42', 'Purpose_A43', 'Purpose_A44', 'Purpose_A45', 'Purpose_A46', 'Purpose_A48', 'Purpose_A49']\n",
      "['Purpose_A40', 'Purpose_A41', 'Purpose_A410', 'Purpose_A42', 'Purpose_A43', 'Purpose_A44', 'Purpose_A45', 'Purpose_A46', 'Purpose_A48', 'Purpose_A49']\n",
      "['Purpose_A40', 'Purpose_A41', 'Purpose_A410', 'Purpose_A42', 'Purpose_A43', 'Purpose_A44', 'Purpose_A45', 'Purpose_A46', 'Purpose_A48', 'Purpose_A49']\n"
     ]
    },
    {
     "data": {
      "image/png": "[encoded data removed]",
      "text/plain": [
       "<Figure size 720x504 with 1 Axes>"
      ]
     },
     "metadata": {
      "needs_background": "light"
     },
     "output_type": "display_data"
    },
    {
     "data": {
      "image/png": "[encoded data removed]",
      "text/plain": [
       "<Figure size 720x504 with 1 Axes>"
      ]
     },
     "metadata": {
      "needs_background": "light"
     },
     "output_type": "display_data"
    },
    {
     "data": {
      "image/png": "[encoded data removed]",
      "text/plain": [
       "<Figure size 720x504 with 1 Axes>"
      ]
     },
     "metadata": {
      "needs_background": "light"
     },
     "output_type": "display_data"
    }
   ],
   "source": [
    "test_1 = get_fpdp_results(clf, dataset, model_features, \"Purpose\", group_column=y_true)\n",
    "test_2 = get_fpdp_results(clf, dataset, model_features, \"Purpose\", group_column=dataset['Group'])\n",
    "test_3 = get_fpdp_results(clf, dataset, model_features, \"Purpose\")"
   ]
  },
  {
   "cell_type": "code",
   "execution_count": null,
   "metadata": {},
   "outputs": [],
   "source": []
  }
 ],
 "metadata": {
  "interpreter": {
   "hash": "f8d1d1944911bba03c851c4b9dc57d184cb404174604c9e2d8b80043b776756f"
  },
  "kernelspec": {
   "display_name": "Python 3.9.7 64-bit ('interpretability': conda)",
   "language": "python",
   "name": "python3"
  },
  "language_info": {
   "codemirror_mode": {
    "name": "ipython",
    "version": 3
   },
   "file_extension": ".py",
   "mimetype": "text/x-python",
   "name": "python",
   "nbconvert_exporter": "python",
   "pygments_lexer": "ipython3",
   "version": "3.9.7"
  },
  "orig_nbformat": 4
 },
 "nbformat": 4,
 "nbformat_minor": 2
}
