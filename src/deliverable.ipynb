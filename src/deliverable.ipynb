{
 "cells": [
  {
   "cell_type": "markdown",
   "metadata": {},
   "source": [
    "# Interpretability and Algorithmic Fairness Project \n",
    "\n",
    "The goal of this project is to apply the techniques described in class to a \n",
    "the setting of a credit-worthiness prediciton.  \n",
    "\n",
    "### Group members:\n",
    "- Nicolas Barbier de la Serre\n",
    "- Juien Bernardo\n",
    "- Henrique Brito Leao\n",
    "- Benjamin Derre\n",
    "- Hippolyte Guigon "
   ]
  },
  {
   "cell_type": "markdown",
   "metadata": {},
   "source": [
    "## Imports"
   ]
  },
  {
   "cell_type": "code",
   "execution_count": 1,
   "metadata": {},
   "outputs": [],
   "source": [
    "import pandas as pd\n",
    "import matplotlib.pyplot as plt\n",
    "\n",
    "from sklearn import tree\n",
    "from sklearn.preprocessing import OneHotEncoder\n",
    "from sklearn.compose import make_column_transformer\n",
    "from sklearn.pipeline import make_pipeline\n",
    "from sklearn.metrics import mean_squared_error\n",
    "\n",
    "from xgboost import XGBRegressor"
   ]
  },
  {
   "cell_type": "markdown",
   "metadata": {},
   "source": [
    "## Import data"
   ]
  },
  {
   "cell_type": "code",
   "execution_count": 2,
   "metadata": {},
   "outputs": [],
   "source": [
    "# import data\n",
    "data = pd.read_excel('../data/data_project.xlsx')\n",
    "\n",
    "# set globals\n",
    "CATEGORICAL_COLS = ['CreditHistory', 'EmploymentDuration', 'Housing', \n",
    "                    'Purpose', 'Savings', 'Group', 'Gender']\n",
    "NUMERICAL_COLS = data.loc[:, ~data.columns.isin(CATEGORICAL_COLS)].columns"
   ]
  },
  {
   "cell_type": "markdown",
   "metadata": {},
   "source": [
    "## Step 1: Surrogate models\n",
    "\n",
    "*Use the estimated probability to be classified as good type (no default) provided in the \n",
    "dataset (y_hat). Implement one or two surrogate method(s) to interpret the unknown model used to \n",
    "generate y_hat.*"
   ]
  },
  {
   "cell_type": "markdown",
   "metadata": {},
   "source": [
    "## Step 2: Model estimation\n",
    "\n",
    "*Estimate your own black‐box machine learning model forecasting the  \n",
    "probability to be classified as good type. For the train and test datasets, use a 70‐30 partition.*"
   ]
  },
  {
   "cell_type": "code",
   "execution_count": 3,
   "metadata": {},
   "outputs": [
    {
     "data": {
      "text/plain": [
       "XGBRegressor(base_score=0.5, booster='gbtree', colsample_bylevel=1,\n",
       "             colsample_bynode=1, colsample_bytree=1, enable_categorical=False,\n",
       "             gamma=0, gpu_id=-1, importance_type=None,\n",
       "             interaction_constraints='', learning_rate=0.300000012,\n",
       "             max_delta_step=0, max_depth=6, min_child_weight=1, missing=nan,\n",
       "             monotone_constraints='()', n_estimators=100, n_jobs=8,\n",
       "             num_parallel_tree=1, predictor='auto', random_state=0, reg_alpha=0,\n",
       "             reg_lambda=1, scale_pos_weight=1, subsample=1, tree_method='exact',\n",
       "             validate_parameters=1, verbosity=None)"
      ]
     },
     "execution_count": 3,
     "metadata": {},
     "output_type": "execute_result"
    }
   ],
   "source": [
    "# select full data \n",
    "data_full = data.copy()\n",
    "train_data = data_full.loc[data_full.y_hat.isna()]\n",
    "test_data = data_full.loc[data_full.y_hat.notnull()]\n",
    "\n",
    "y_train = train_data['CreditRisk (y)'].to_numpy()\n",
    "y_test = test_data['CreditRisk (y)'].to_numpy()\n",
    "X_train = train_data.drop(['CreditRisk (y)', 'y_hat'], axis=1)\n",
    "X_test = test_data.drop(['CreditRisk (y)', 'y_hat'], axis=1)\n",
    "\n",
    "transformer = make_column_transformer(\n",
    "    (OneHotEncoder(), CATEGORICAL_COLS),\n",
    "    remainder='passthrough'\n",
    ")\n",
    "\n",
    "X_train_prep = transformer.fit_transform(X_train)\n",
    "\n",
    "reg = XGBRegressor()\n",
    "reg.fit(X_train_prep, y_train)"
   ]
  },
  {
   "cell_type": "markdown",
   "metadata": {},
   "source": [
    "## Step 3: Model performance\n",
    "\n",
    "*Analyze the performance of your own model.*"
   ]
  },
  {
   "cell_type": "markdown",
   "metadata": {},
   "source": [
    "# Global interpretability"
   ]
  },
  {
   "cell_type": "markdown",
   "metadata": {},
   "source": [
    "## Step 4: Surrogate models\n",
    "\n",
    "*Implement one or two surrogate method(s) to interpret your own \n",
    "model. Compare the results provided in Steps 1 and 4.*"
   ]
  },
  {
   "cell_type": "markdown",
   "metadata": {},
   "source": [
    "## Step 5: PDP\n",
    "\n",
    "*Implement the PDP method to interpret your own model.*"
   ]
  },
  {
   "cell_type": "markdown",
   "metadata": {},
   "source": [
    "## Step 6: ALE\n",
    "\n",
    "*Implement the ALE method to interpret your own model. Compare \n",
    "the results provided in Steps 5 and 6.*"
   ]
  },
  {
   "cell_type": "markdown",
   "metadata": {},
   "source": [
    "# Local Interpretability"
   ]
  },
  {
   "cell_type": "markdown",
   "metadata": {},
   "source": [
    "## Step 7: ICE\n",
    "\n",
    "*Implement the ICE method to interpret your own model.*"
   ]
  },
  {
   "cell_type": "markdown",
   "metadata": {},
   "source": [
    "## Step 8: SHAP\n",
    "\n",
    "*Implement the SHAP method to interpret your own model. Compare \n",
    "the results provided in Steps 7 and 8.*"
   ]
  },
  {
   "cell_type": "markdown",
   "metadata": {},
   "source": [
    "# Fairness"
   ]
  },
  {
   "cell_type": "markdown",
   "metadata": {},
   "source": [
    "## Step 9: Fairness assessment\n",
    "\n",
    "*Use a Pearson statistic for the following three fairness \n",
    "definitions: Statistical Parity, Conditional Statistical Parity (groups are given in the dataset), and Equal \n",
    "Odds. Discuss your results.*"
   ]
  },
  {
   "cell_type": "markdown",
   "metadata": {},
   "source": [
    "## Step 10: FPDF\n",
    "\n",
    "*Implement a FPDP using a fairness measure. Discuss your results.*"
   ]
  }
 ],
 "metadata": {
  "interpreter": {
   "hash": "f8d1d1944911bba03c851c4b9dc57d184cb404174604c9e2d8b80043b776756f"
  },
  "kernelspec": {
   "display_name": "Python 3.9.7 64-bit ('interpretability': conda)",
   "language": "python",
   "name": "python3"
  },
  "language_info": {
   "codemirror_mode": {
    "name": "ipython",
    "version": 3
   },
   "file_extension": ".py",
   "mimetype": "text/x-python",
   "name": "python",
   "nbconvert_exporter": "python",
   "pygments_lexer": "ipython3",
   "version": "3.9.7"
  },
  "orig_nbformat": 4
 },
 "nbformat": 4,
 "nbformat_minor": 2
}
